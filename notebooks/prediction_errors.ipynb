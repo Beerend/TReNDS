{
 "cells": [
  {
   "cell_type": "code",
   "execution_count": 1,
   "metadata": {},
   "outputs": [],
   "source": [
    "import numpy as np\n",
    "import pandas as pd\n",
    "import seaborn as sns\n",
    "import matplotlib.pyplot as plt\n",
    "sns.set()"
   ]
  },
  {
   "cell_type": "code",
   "execution_count": 2,
   "metadata": {},
   "outputs": [
    {
     "data": {
      "text/html": [
       "<div>\n",
       "<style scoped>\n",
       "    .dataframe tbody tr th:only-of-type {\n",
       "        vertical-align: middle;\n",
       "    }\n",
       "\n",
       "    .dataframe tbody tr th {\n",
       "        vertical-align: top;\n",
       "    }\n",
       "\n",
       "    .dataframe thead th {\n",
       "        text-align: right;\n",
       "    }\n",
       "</style>\n",
       "<table border=\"1\" class=\"dataframe\">\n",
       "  <thead>\n",
       "    <tr style=\"text-align: right;\">\n",
       "      <th></th>\n",
       "      <th>Pred</th>\n",
       "      <th>Label</th>\n",
       "      <th>Error</th>\n",
       "      <th>Abs error</th>\n",
       "    </tr>\n",
       "  </thead>\n",
       "  <tbody>\n",
       "    <tr>\n",
       "      <th>0</th>\n",
       "      <td>56.606033</td>\n",
       "      <td>64.203110</td>\n",
       "      <td>-7.597077</td>\n",
       "      <td>7.597077</td>\n",
       "    </tr>\n",
       "    <tr>\n",
       "      <th>1</th>\n",
       "      <td>36.979107</td>\n",
       "      <td>33.404690</td>\n",
       "      <td>3.574417</td>\n",
       "      <td>3.574417</td>\n",
       "    </tr>\n",
       "    <tr>\n",
       "      <th>2</th>\n",
       "      <td>53.824210</td>\n",
       "      <td>66.532630</td>\n",
       "      <td>-12.708420</td>\n",
       "      <td>12.708420</td>\n",
       "    </tr>\n",
       "    <tr>\n",
       "      <th>3</th>\n",
       "      <td>65.882034</td>\n",
       "      <td>71.413020</td>\n",
       "      <td>-5.530986</td>\n",
       "      <td>5.530986</td>\n",
       "    </tr>\n",
       "    <tr>\n",
       "      <th>4</th>\n",
       "      <td>69.072700</td>\n",
       "      <td>57.436077</td>\n",
       "      <td>11.636623</td>\n",
       "      <td>11.636623</td>\n",
       "    </tr>\n",
       "  </tbody>\n",
       "</table>\n",
       "</div>"
      ],
      "text/plain": [
       "        Pred      Label      Error  Abs error\n",
       "0  56.606033  64.203110  -7.597077   7.597077\n",
       "1  36.979107  33.404690   3.574417   3.574417\n",
       "2  53.824210  66.532630 -12.708420  12.708420\n",
       "3  65.882034  71.413020  -5.530986   5.530986\n",
       "4  69.072700  57.436077  11.636623  11.636623"
      ]
     },
     "execution_count": 2,
     "metadata": {},
     "output_type": "execute_result"
    }
   ],
   "source": [
    "model = 'resnet10/0'\n",
    "epoch = '11'\n",
    "\n",
    "filen = '../results/'+model+'/preds_epoch_'+epoch+'.csv'\n",
    "preds = pd.read_csv('preds_epoch_5.csv')\n",
    "\n",
    "preds['Error']     = np.subtract(preds['Pred'].to_list(), preds['Label'].to_list())\n",
    "preds['Abs error'] = np.abs(np.subtract(preds['Pred'].to_list(), preds['Label'].to_list()))\n",
    "preds.head(5)"
   ]
  },
  {
   "cell_type": "code",
   "execution_count": 3,
   "metadata": {},
   "outputs": [
    {
     "name": "stdout",
     "output_type": "stream",
     "text": [
      "[ 13  84 186 294 347 171  69  11]\n",
      "[ 24.361029    15.22346979   9.92400245   4.0816063   -0.31396001\n",
      "  -6.2091535  -12.46370541 -22.07652836]\n"
     ]
    }
   ],
   "source": [
    "counts = np.zeros(8, dtype=int)\n",
    "errors = np.zeros(8, dtype=float)\n",
    "all_errors = preds['Error'].to_list()\n",
    "for i, age in enumerate(preds['Label'].to_list()):\n",
    "    idx = int(np.floor(age/10)-1)\n",
    "    counts[idx]+=1\n",
    "    errors[idx]+=all_errors[i]\n",
    "for i in range(8):\n",
    "    errors[i]/=counts[i]\n",
    "print(counts)\n",
    "print(errors)"
   ]
  },
  {
   "cell_type": "code",
   "execution_count": 5,
   "metadata": {},
   "outputs": [
    {
     "data": {
      "image/png": "[encoded data removed]",
      "text/plain": [
       "<Figure size 432x288 with 1 Axes>"
      ]
     },
     "metadata": {
      "needs_background": "light"
     },
     "output_type": "display_data"
    }
   ],
   "source": [
    "colors = ['darkgreen','green','forestgreen','mediumseagreen',\n",
    "         'lightcoral','indianred','firebrick','darkred']\n",
    "\n",
    "# sns.barplot(list(range(10,90,10)), errors)\n",
    "ax = plt.bar(list(range(10,90,10)), height=errors, width=10, align='edge', linewidth=0, color=colors)\n",
    "ax = sns.regplot(x='Label', y='Abs error', data=preds, scatter=False, order=10, label='Absolute error',\n",
    "            color='black', x_ci='sd')\n",
    "plt.setp(ax.collections, zorder=100)\n",
    "# sns.regplot(x='Label', y='Error', data=preds, scatter=False, order=10, label='Error')\n",
    "plt.ylabel('Average prediction error', weight='bold')\n",
    "plt.ylim(-25,30)\n",
    "plt.xlabel('Age (in years)', weight='bold')\n",
    "plt.xticks(list(range(10,100,10)), [10,'',30,'',50,'',70,'',90])\n",
    "\n",
    "plt.legend()\n",
    "# plt.show()\n",
    "plt.savefig('figures/estimation_bias_3D-CNN_2_EP5.png', bbox_inches='tight')"
   ]
  }
 ],
 "metadata": {
  "kernelspec": {
   "display_name": "Python 3",
   "language": "python",
   "name": "python3"
  },
  "language_info": {
   "codemirror_mode": {
    "name": "ipython",
    "version": 3
   },
   "file_extension": ".py",
   "mimetype": "text/x-python",
   "name": "python",
   "nbconvert_exporter": "python",
   "pygments_lexer": "ipython3",
   "version": "3.7.1"
  }
 },
 "nbformat": 4,
 "nbformat_minor": 4
}
