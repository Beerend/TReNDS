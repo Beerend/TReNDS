{
 "cells": [
  {
   "cell_type": "code",
   "execution_count": 1,
   "metadata": {},
   "outputs": [],
   "source": [
    "import numpy as np\n",
    "import pandas as pd\n",
    "import seaborn as sns\n",
    "import matplotlib.pyplot as plt\n",
    "from scipy.stats import norm\n",
    "sns.set()"
   ]
  },
  {
   "cell_type": "code",
   "execution_count": 2,
   "metadata": {},
   "outputs": [
    {
     "data": {
      "text/html": [
       "<div>\n",
       "<style scoped>\n",
       "    .dataframe tbody tr th:only-of-type {\n",
       "        vertical-align: middle;\n",
       "    }\n",
       "\n",
       "    .dataframe tbody tr th {\n",
       "        vertical-align: top;\n",
       "    }\n",
       "\n",
       "    .dataframe thead th {\n",
       "        text-align: right;\n",
       "    }\n",
       "</style>\n",
       "<table border=\"1\" class=\"dataframe\">\n",
       "  <thead>\n",
       "    <tr style=\"text-align: right;\">\n",
       "      <th></th>\n",
       "      <th>Id</th>\n",
       "      <th>age</th>\n",
       "    </tr>\n",
       "  </thead>\n",
       "  <tbody>\n",
       "    <tr>\n",
       "      <th>0</th>\n",
       "      <td>10001</td>\n",
       "      <td>57.436077</td>\n",
       "    </tr>\n",
       "    <tr>\n",
       "      <th>1</th>\n",
       "      <td>10002</td>\n",
       "      <td>59.580851</td>\n",
       "    </tr>\n",
       "    <tr>\n",
       "      <th>2</th>\n",
       "      <td>10004</td>\n",
       "      <td>71.413018</td>\n",
       "    </tr>\n",
       "    <tr>\n",
       "      <th>3</th>\n",
       "      <td>10005</td>\n",
       "      <td>66.532630</td>\n",
       "    </tr>\n",
       "    <tr>\n",
       "      <th>4</th>\n",
       "      <td>10007</td>\n",
       "      <td>38.617381</td>\n",
       "    </tr>\n",
       "  </tbody>\n",
       "</table>\n",
       "</div>"
      ],
      "text/plain": [
       "      Id        age\n",
       "0  10001  57.436077\n",
       "1  10002  59.580851\n",
       "2  10004  71.413018\n",
       "3  10005  66.532630\n",
       "4  10007  38.617381"
      ]
     },
     "execution_count": 2,
     "metadata": {},
     "output_type": "execute_result"
    }
   ],
   "source": [
    "root = '/Volumes/External Hard Drive/Documents/University of Twente/Computer Science/Capita Selecta/TReNDS/'\n",
    "\n",
    "data = pd.read_csv('{}/train_scores.csv'.format(root), usecols=[0, 1]).dropna()\n",
    "data.head(5)"
   ]
  },
  {
   "cell_type": "code",
   "execution_count": 6,
   "metadata": {},
   "outputs": [
    {
     "name": "stdout",
     "output_type": "stream",
     "text": [
      "50.034068314837356 13.538728884495923 0.02946674564539714\n"
     ]
    }
   ],
   "source": [
    "mu, std = norm.fit(data['age'].to_list())\n",
    "optimum = norm.pdf(mu, mu, std)\n",
    "print(mu, std, optimum)"
   ]
  },
  {
   "cell_type": "code",
   "execution_count": 77,
   "metadata": {},
   "outputs": [
    {
     "data": {
      "image/png": "[encoded data removed]",
      "text/plain": [
       "<Figure size 432x288 with 1 Axes>"
      ]
     },
     "metadata": {
      "needs_background": "light"
     },
     "output_type": "display_data"
    }
   ],
   "source": [
    "## fs = 12\n",
    "# mean = np.mean(data['age'])\n",
    "sns.distplot(data['age'], bins=list(range(10,100,10)),\n",
    "             kde_kws={'color':'k','bw':.1,'linewidth':2,'label':'KDE'})\n",
    "# plt.axvline(mean, color='black', linestyle='--', lw=2)\n",
    "# plt.legend({'Mean':mean})\n",
    "\n",
    "plt.rcParams.update({'font.size': 30})\n",
    "plt.xlabel('Age (in years)', fontsize=fs, fontweight='bold')\n",
    "\n",
    "xmin, xmax = plt.xlim()\n",
    "x = np.linspace(xmin, xmax, 100)\n",
    "p = norm.pdf(x, mu, std)\n",
    "plt.plot(x, p, 'r', linewidth=2, label='Normal distr.')\n",
    "plt.legend(fontsize=fs-1)\n",
    "plt.yticks([.0,.01,.02,.03], fontsize=fs)\n",
    "plt.xticks(list(range(10,100,10)),[10,'',30,'',50,'',70,'',90], fontsize=fs)\n",
    "\n",
    "# plt.plot(x, p*(optimum/p), 'r')\n",
    "# plt.plot(x, optimum/p, 'g')\n",
    "\n",
    "# plt.show()\n",
    "plt.savefig('figures/age_distribution.png', bbox_inches='tight')"
   ]
  },
  {
   "cell_type": "code",
   "execution_count": null,
   "metadata": {},
   "outputs": [],
   "source": []
  },
  {
   "cell_type": "code",
   "execution_count": 56,
   "metadata": {},
   "outputs": [
    {
     "name": "stdout",
     "output_type": "stream",
     "text": [
      "10.96021 (MAE) 183.29718 (MSE) at 5877 samples with mean age: 50.0\n"
     ]
    }
   ],
   "source": [
    "mean_age = np.mean(data['age'])\n",
    "tot_mae  = 0.\n",
    "tot_mse  = 0.\n",
    "count    = 0\n",
    "\n",
    "for age in data['age']:\n",
    "    diff = age-mean_age\n",
    "    tot_mae += np.abs(diff)\n",
    "    tot_mse += diff**2\n",
    "    count   += 1\n",
    "    \n",
    "avg_mae = tot_mae/count\n",
    "avg_mse = tot_mse/count\n",
    "\n",
    "print('%.5f (MAE) %.5f (MSE) at %d samples with mean age: %.1f'%(avg_mae, avg_mse, count, mean_age))"
   ]
  }
 ],
 "metadata": {
  "kernelspec": {
   "display_name": "Python 3",
   "language": "python",
   "name": "python3"
  },
  "language_info": {
   "codemirror_mode": {
    "name": "ipython",
    "version": 3
   },
   "file_extension": ".py",
   "mimetype": "text/x-python",
   "name": "python",
   "nbconvert_exporter": "python",
   "pygments_lexer": "ipython3",
   "version": "3.7.1"
  }
 },
 "nbformat": 4,
 "nbformat_minor": 4
}
