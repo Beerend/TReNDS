{
 "cells": [
  {
   "cell_type": "code",
   "execution_count": 14,
   "metadata": {},
   "outputs": [],
   "source": [
    "import numpy as np\n",
    "import h5py\n",
    "import os\n",
    "from tqdm import tqdm\n",
    "import matplotlib.pyplot as plt"
   ]
  },
  {
   "cell_type": "markdown",
   "metadata": {},
   "source": [
    "<h3>Convert Matlab to Numpy data</h3>"
   ]
  },
  {
   "cell_type": "code",
   "execution_count": 3,
   "metadata": {},
   "outputs": [],
   "source": [
    "root = '/Volumes/External Hard Drive/Documents/University of Twente/Computer Science/Capita Selecta/TReNDS'"
   ]
  },
  {
   "cell_type": "code",
   "execution_count": 10,
   "metadata": {},
   "outputs": [
    {
     "data": {
      "text/plain": [
       "5877"
      ]
     },
     "execution_count": 10,
     "metadata": {},
     "output_type": "execute_result"
    }
   ],
   "source": [
    "read_dir  = os.path.join(root, 'fMRI_train_mat')\n",
    "write_dir = os.path.join(root, 'fMRI_train_npy')\n",
    "mats = os.listdir(read_dir)\n",
    "mats = [mat for mat in mats if '.mat' in mat]\n",
    "len(mats)"
   ]
  },
  {
   "cell_type": "code",
   "execution_count": 21,
   "metadata": {},
   "outputs": [
    {
     "name": "stderr",
     "output_type": "stream",
     "text": [
      "100%|██████████| 5877/5877 [2:42:05<00:00,  1.65s/it]  \n"
     ]
    }
   ],
   "source": [
    "for mat in tqdm(mats):\n",
    "    # Set right path for file\n",
    "    mat_path = os.path.join(read_dir, mat)\n",
    "    npy_path = os.path.join(write_dir, mat.replace('.mat','.npy'))\n",
    "    \n",
    "    if not os.path.exists(npy_path):\n",
    "        \n",
    "        # Read and convert data\n",
    "        with h5py.File(mat_path, 'r') as file:\n",
    "            data = file['SM_feature'][()]\n",
    "        data = np.moveaxis(data, [0,1,2,3], [3,2,1,0]) #h5py flips the axis order\n",
    "\n",
    "        # Write data\n",
    "        np.save(npy_path, data.astype(np.float16))"
   ]
  },
  {
   "cell_type": "markdown",
   "metadata": {},
   "source": [
    "<h5>Test sample</h5>"
   ]
  },
  {
   "cell_type": "code",
   "execution_count": 20,
   "metadata": {},
   "outputs": [
    {
     "data": {
      "image/png": "[encoded data removed]",
      "text/plain": [
       "<Figure size 1080x360 with 1 Axes>"
      ]
     },
     "metadata": {
      "needs_background": "light"
     },
     "output_type": "display_data"
    },
    {
     "name": "stdout",
     "output_type": "stream",
     "text": [
      "Y=53 (lateral: left-right), X=63 (medial: front-back), Z=52 (axial: top-bottom), T=53 (temporal: time)\n",
      "Min value: -8.265625 Max value: 10.8203125\n"
     ]
    }
   ],
   "source": [
    "data_path = os.path.join(write_dir, '10026.npy')\n",
    "data = np.load(data_path).astype(np.float32)\n",
    "\n",
    "t = 26\n",
    "fig = plt.figure(figsize=(15,5))\n",
    "\n",
    "ax = plt.subplot(131)\n",
    "plt.imshow(np.rot90(data[26,:,:,t]),cmap='cividis',vmin=np.min(data),vmax=np.max(data))\n",
    "plt.xlabel('Medial')\n",
    "plt.ylabel('Axial')\n",
    "ax.set_title('Sagittal plane')\n",
    "plt.show()\n",
    "\n",
    "print('Y=%d (lateral: left-right), X=%d (medial: front-back), Z=%d (axial: top-bottom), T=%d (temporal: time)'%data.shape)\n",
    "print('Min value:',np.min(data),'Max value:',np.max(data))"
   ]
  }
 ],
 "metadata": {
  "kernelspec": {
   "display_name": "Python 3",
   "language": "python",
   "name": "python3"
  },
  "language_info": {
   "codemirror_mode": {
    "name": "ipython",
    "version": 3
   },
   "file_extension": ".py",
   "mimetype": "text/x-python",
   "name": "python",
   "nbconvert_exporter": "python",
   "pygments_lexer": "ipython3",
   "version": "3.7.1"
  }
 },
 "nbformat": 4,
 "nbformat_minor": 4
}
