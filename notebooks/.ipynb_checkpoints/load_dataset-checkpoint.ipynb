{
 "cells": [
  {
   "cell_type": "code",
   "execution_count": 23,
   "metadata": {},
   "outputs": [],
   "source": [
    "import os\n",
    "import numpy as np\n",
    "import pandas as pd\n",
    "from sklearn.model_selection import KFold"
   ]
  },
  {
   "cell_type": "code",
   "execution_count": 19,
   "metadata": {},
   "outputs": [],
   "source": [
    "root = '/Volumes/External Hard Drive/Documents/University of Twente/Computer Science/Capita Selecta/TReNDS'"
   ]
  },
  {
   "cell_type": "code",
   "execution_count": 20,
   "metadata": {},
   "outputs": [],
   "source": [
    "data = pd.read_csv('{}/train_scores.csv'.format(root), usecols=[0, 1]).dropna() # read data samples\n",
    "ids  = list(data.Id)\n",
    "lbls = list(data.age)"
   ]
  },
  {
   "cell_type": "code",
   "execution_count": 21,
   "metadata": {},
   "outputs": [],
   "source": [
    "all_samples = []\n",
    "for i in range(len(ids)):\n",
    "    filename = os.path.join('{}/fMRI_train_npy/{}.npy'.format(root, ids[i]))\n",
    "    all_samples.append([filename, lbls[i], str(ids[i])])"
   ]
  },
  {
   "cell_type": "code",
   "execution_count": 24,
   "metadata": {},
   "outputs": [],
   "source": [
    "kf = KFold(n_splits=5, shuffle=True, random_state=0)"
   ]
  },
  {
   "cell_type": "code",
   "execution_count": 32,
   "metadata": {},
   "outputs": [
    {
     "name": "stdout",
     "output_type": "stream",
     "text": [
      "Loaded dataset with 4702 train and 1175 test samples in fold 1.\n"
     ]
    }
   ],
   "source": [
    "fold = 1\n",
    "for i, [train_index, test_index] in enumerate(kf.split(all_samples)):\n",
    "    if i==fold:\n",
    "        train_index = train_index\n",
    "        text_index = test_index\n",
    "                \n",
    "print('Loaded dataset with %d train and %d test samples in fold %d.'%(len(train_index),len(test_index),fold))"
   ]
  }
 ],
 "metadata": {
  "kernelspec": {
   "display_name": "Python 3",
   "language": "python",
   "name": "python3"
  },
  "language_info": {
   "codemirror_mode": {
    "name": "ipython",
    "version": 3
   },
   "file_extension": ".py",
   "mimetype": "text/x-python",
   "name": "python",
   "nbconvert_exporter": "python",
   "pygments_lexer": "ipython3",
   "version": "3.7.1"
  }
 },
 "nbformat": 4,
 "nbformat_minor": 4
}
