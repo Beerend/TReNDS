{
 "cells": [
  {
   "cell_type": "code",
   "execution_count": 30,
   "metadata": {},
   "outputs": [],
   "source": [
    "import os\n",
    "import numpy as np\n",
    "import pandas as pd\n",
    "from sklearn.model_selection import KFold\n",
    "from scipy import stats"
   ]
  },
  {
   "cell_type": "code",
   "execution_count": 2,
   "metadata": {},
   "outputs": [],
   "source": [
    "root = '/Volumes/External Hard Drive/Documents/University of Twente/Computer Science/Capita Selecta/TReNDS'"
   ]
  },
  {
   "cell_type": "code",
   "execution_count": 3,
   "metadata": {},
   "outputs": [],
   "source": [
    "data = pd.read_csv('{}/train_scores.csv'.format(root), usecols=[0, 1]).dropna() # read data samples\n",
    "ids  = list(data.Id)\n",
    "lbls = list(data.age)"
   ]
  },
  {
   "cell_type": "code",
   "execution_count": 4,
   "metadata": {},
   "outputs": [],
   "source": [
    "all_samples = []\n",
    "for i in range(len(ids)):\n",
    "    filename = os.path.join('{}/fMRI_train_npy/{}.npy'.format(root, ids[i]))\n",
    "    all_samples.append([filename, lbls[i], str(ids[i])])"
   ]
  },
  {
   "cell_type": "code",
   "execution_count": 16,
   "metadata": {},
   "outputs": [],
   "source": [
    "kf = KFold(n_splits=5, shuffle=True, random_state=1)"
   ]
  },
  {
   "cell_type": "code",
   "execution_count": 22,
   "metadata": {},
   "outputs": [
    {
     "name": "stdout",
     "output_type": "stream",
     "text": [
      "Loaded dataset with 4702 train and 1175 test samples in fold 2.\n"
     ]
    }
   ],
   "source": [
    "fold = 2\n",
    "for i, [train_index, test_index] in enumerate(kf.split(all_samples)):\n",
    "    if i==fold:\n",
    "        train_index = train_index\n",
    "        test_index = test_index\n",
    "                \n",
    "print('Loaded dataset with %d train and %d test samples in fold %d.'%(len(train_index),len(test_index),fold))"
   ]
  },
  {
   "cell_type": "code",
   "execution_count": 29,
   "metadata": {},
   "outputs": [
    {
     "name": "stdout",
     "output_type": "stream",
     "text": [
      "Baseline MAE: 11.144769510703782\n",
      "Baseline MSE: 187.99640237338198\n"
     ]
    }
   ],
   "source": [
    "avg = 50.27797400578695\n",
    "mae = 0.\n",
    "mse = 0.\n",
    "for i in test_index:\n",
    "    filename, lbl, idx = all_samples[i]\n",
    "#     avg+=lbl\n",
    "    mae+=np.abs(lbl-avg)\n",
    "    mse+=(lbl-avg)**2\n",
    "    \n",
    "# print('Average age in test set:', avg/len(test_index))\n",
    "print('Baseline MAE:', mae/len(test_index))\n",
    "print('Baseline MSE:', mse/len(test_index))"
   ]
  },
  {
   "cell_type": "code",
   "execution_count": 73,
   "metadata": {},
   "outputs": [],
   "source": [
    "all_labls = []\n",
    "for i in test_index:\n",
    "    filename, lbl, idx = all_samples[i]\n",
    "    all_labls.append(lbl)\n",
    "\n",
    "# all_preds = np.repeat([50.27797400578695], len(test_index))\n",
    "all_preds = np.random.normal(np.mean(all_labls), np.std(all_labls), len(test_index))\n",
    "\n",
    "r, p = stats.pearsonr(all_preds, all_labls)"
   ]
  },
  {
   "cell_type": "code",
   "execution_count": 41,
   "metadata": {},
   "outputs": [
    {
     "name": "stdout",
     "output_type": "stream",
     "text": [
      "50.27797400578724 13.711178008230448\n"
     ]
    }
   ],
   "source": [
    "print(np.mean(all_labls), np.std(all_labls))"
   ]
  },
  {
   "cell_type": "code",
   "execution_count": 74,
   "metadata": {},
   "outputs": [
    {
     "data": {
      "text/plain": [
       "(-0.04796314232002053, 0.10032303363166047)"
      ]
     },
     "execution_count": 74,
     "metadata": {},
     "output_type": "execute_result"
    }
   ],
   "source": [
    "df = pd.read_csv('preds_deeplight_t26_2_epoch_5.csv')\n",
    "all_preds = df['Pred'].to_list()\n",
    "stats.pearsonr(all_preds, all_labls)"
   ]
  }
 ],
 "metadata": {
  "kernelspec": {
   "display_name": "Python 3",
   "language": "python",
   "name": "python3"
  },
  "language_info": {
   "codemirror_mode": {
    "name": "ipython",
    "version": 3
   },
   "file_extension": ".py",
   "mimetype": "text/x-python",
   "name": "python",
   "nbconvert_exporter": "python",
   "pygments_lexer": "ipython3",
   "version": "3.7.1"
  }
 },
 "nbformat": 4,
 "nbformat_minor": 4
}
